{
  "nbformat": 4,
  "nbformat_minor": 0,
  "metadata": {
    "colab": {
      "name": "AI assignments",
      "provenance": [],
      "collapsed_sections": [],
      "authorship_tag": "ABX9TyMKIOzuEpjmyaatJWktFj8w",
      "include_colab_link": true
    },
    "kernelspec": {
      "name": "python3",
      "display_name": "Python 3"
    }
  },
  "cells": [
    {
      "cell_type": "markdown",
      "metadata": {
        "id": "view-in-github",
        "colab_type": "text"
      },
      "source": [
        "<a href=\"https://colab.research.google.com/github/AdnanRizvi-cloud/sample1/blob/master/AI2_assignments.ipynb\" target=\"_parent\"><img src=\"https://colab.research.google.com/assets/colab-badge.svg\" alt=\"Open In Colab\"/></a>"
      ]
    },
    {
      "cell_type": "code",
      "metadata": {
        "id": "3iFDlRvKJXdK",
        "colab_type": "code",
        "colab": {}
      },
      "source": [
        ""
      ],
      "execution_count": null,
      "outputs": []
    },
    {
      "cell_type": "markdown",
      "metadata": {
        "id": "PndFSoNcJblT",
        "colab_type": "text"
      },
      "source": [
        "Given  the  lengths  of  three  sides  of  a  triangle,  calculate  the  area  of the triangle. "
      ]
    },
    {
      "cell_type": "code",
      "metadata": {
        "id": "AqmsSA4RJh62",
        "colab_type": "code",
        "colab": {
          "base_uri": "https://localhost:8080/",
          "height": 85
        },
        "outputId": "a39888bd-660c-4d1c-9276-0215f3543fa2"
      },
      "source": [
        "a=float(input(\"Enter length of 1st side of a triangle:\"))  \n",
        "b=float(input(\"Enter length of 2nd side of a triangle:\"))  \n",
        "c=float(input(\"Enter length of 3rd side of a triangle:\"))  \n",
        "if(a+b>c):\n",
        "  s=(a+b+c)/2  \n",
        "  area=(s*(s-a)*(s-b)*(s-c))**(1/2)\n",
        "  print(\"The area of the triangle is= \", round(area,2))\n",
        "else:\n",
        "  print(\"The triangle is not possible\")\n"
      ],
      "execution_count": null,
      "outputs": [
        {
          "output_type": "stream",
          "text": [
            "Enter length of 1st side of a triangle:10\n",
            "Enter length of 2nd side of a triangle:10\n",
            "Enter length of 3rd side of a triangle:10\n",
            "The area of the triangle is=  43.3\n"
          ],
          "name": "stdout"
        }
      ]
    },
    {
      "cell_type": "markdown",
      "metadata": {
        "id": "zDwCQ7HDJ42b",
        "colab_type": "text"
      },
      "source": [
        "2.Take a string from end user and check if the value is palindrome or not"
      ]
    },
    {
      "cell_type": "code",
      "metadata": {
        "id": "pFImCgmwKHn-",
        "colab_type": "code",
        "colab": {
          "base_uri": "https://localhost:8080/",
          "height": 51
        },
        "outputId": "1ea93bc5-5fe5-4503-83a3-fdfecd496922"
      },
      "source": [
        "s=input(\"Enter a string:\")\n",
        "if(s==s[::-1]):\n",
        "    print(\"Given string {} is palindrome\".format(s))\n",
        "else:\n",
        "    print(\"Given string {} is not palindrome\".format(s))\n"
      ],
      "execution_count": null,
      "outputs": [
        {
          "output_type": "stream",
          "text": [
            "Enter a string:1010\n",
            "Given string 1010 is not palindrome\n"
          ],
          "name": "stdout"
        }
      ]
    },
    {
      "cell_type": "markdown",
      "metadata": {
        "id": "CEhTaNbIKVXN",
        "colab_type": "text"
      },
      "source": [
        "3.  Write a program that reads a year from the user and displays a message Indicating whether or not it is a leap year."
      ]
    },
    {
      "cell_type": "code",
      "metadata": {
        "id": "Fo-8QFV-KaTU",
        "colab_type": "code",
        "colab": {
          "base_uri": "https://localhost:8080/",
          "height": 51
        },
        "outputId": "01afed53-942f-4772-fda0-0c0cb192741b"
      },
      "source": [
        "year=int(input(\"Enter the year:\"))\n",
        "if(year%4==0 and year%100!=0 or year%400==0):\n",
        "    print(\"{} The entered year is leap year\".format(year))\n",
        "else:\n",
        "    print(\"{} The entered year is not a leap year\".format(year))\n"
      ],
      "execution_count": null,
      "outputs": [
        {
          "output_type": "stream",
          "text": [
            "Enter the year:2020\n",
            "2020 The entered year is leap year\n"
          ],
          "name": "stdout"
        }
      ]
    },
    {
      "cell_type": "markdown",
      "metadata": {
        "id": "Nq8zxH5XKq9K",
        "colab_type": "text"
      },
      "source": [
        "4.   Space To Hyphen problem Take a string as input, and replaces spaces “ “  with hyphens “-”, and returns a string.Input: “ This program converts spaces into hyphen”      Output:     “ This-program-converts-spaces-into-hyphen”"
      ]
    },
    {
      "cell_type": "code",
      "metadata": {
        "id": "D7lgVkv_KsOK",
        "colab_type": "code",
        "colab": {
          "base_uri": "https://localhost:8080/",
          "height": 51
        },
        "outputId": "d275a18e-b187-4857-9c29-4721dacf706d"
      },
      "source": [
        "n=input(\"Enter a string : \")\n",
        "print(n.replace(' ','-'))\n"
      ],
      "execution_count": null,
      "outputs": [
        {
          "output_type": "stream",
          "text": [
            "Enter a string : adnan rizvi\n",
            "adnan-rizvi\n"
          ],
          "name": "stdout"
        }
      ]
    },
    {
      "cell_type": "markdown",
      "metadata": {
        "id": "nbt_gDCmLFGI",
        "colab_type": "text"
      },
      "source": [
        "5.  Unique Sort problem Take  a  string  as  input  that  accepts  a  comma  separated  sequence  of  words as input and prints the unique words in sorted form (alphanumerically).*Input*: orange, white, red, cyan, green, magenta, cyan, pink, white*Output*: cyan, green, magenta, orange, pink, red, white"
      ]
    },
    {
      "cell_type": "code",
      "metadata": {
        "id": "QvXKGNDiLGZ_",
        "colab_type": "code",
        "colab": {
          "base_uri": "https://localhost:8080/",
          "height": 51
        },
        "outputId": "2bc07deb-f786-4464-ad3d-6701c384bf59"
      },
      "source": [
        "str=input(\"Enter a string: \")\n",
        "s=str.split()\n",
        "s.sort()\n",
        "list(s)\n",
        "set(s)\n"
      ],
      "execution_count": null,
      "outputs": [
        {
          "output_type": "stream",
          "text": [
            "Enter a string: orange,white,red,cyan,magenta,cyan,pink,white\n"
          ],
          "name": "stdout"
        },
        {
          "output_type": "execute_result",
          "data": {
            "text/plain": [
              "{'orange,white,red,cyan,magenta,cyan,pink,white'}"
            ]
          },
          "metadata": {
            "tags": []
          },
          "execution_count": 5
        }
      ]
    },
    {
      "cell_type": "markdown",
      "metadata": {
        "id": "jU0dvGpNLrMm",
        "colab_type": "text"
      },
      "source": [
        "6.Tax CalculatorAsk  the  user  for  their  monthly  salary.  Calculate  whether  they  have  to  pay tax and if so, how much is that amount .Print the result"
      ]
    },
    {
      "cell_type": "code",
      "metadata": {
        "id": "AMNc7cdELwc0",
        "colab_type": "code",
        "colab": {
          "base_uri": "https://localhost:8080/",
          "height": 51
        },
        "outputId": "1d84d3a4-5a8a-46f2-d445-843fc293012b"
      },
      "source": [
        "salary=int(input(\"Enter the salary : \"))\n",
        "if (salary>=0) and (salary<=250000):\n",
        "    tax=(salary*0)\n",
        "elif (salary>250000) and (salary<=500000):\n",
        "    tax=(salary*0.05)\n",
        "elif (salary>500000) and (salary<=750000):\n",
        "    tax=(salary*0.1)\n",
        "elif (salary>750000) and (salary<=1000000):\n",
        "    tax=(salary*0.15)\n",
        "elif (salary>1000000) and (salary<=1250000):\n",
        "    tax=(salary*0.2)\n",
        "elif (salary>1250000) and (salary<=1500000):\n",
        "    tax=(salary*0.25)\n",
        "else:\n",
        "    tax=(salary*0.3)\n",
        "print(\"Tax is : \",tax)\n"
      ],
      "execution_count": null,
      "outputs": [
        {
          "output_type": "stream",
          "text": [
            "Enter the salary : 1500000\n",
            "Tax is :  375000.0\n"
          ],
          "name": "stdout"
        }
      ]
    },
    {
      "cell_type": "markdown",
      "metadata": {
        "id": "JP8_rAG3MIdJ",
        "colab_type": "text"
      },
      "source": [
        "7.Take a list of integers as an argument, and converts it into a single integer (return the integer).*Input*: [11, 33, 50]*Output*: 113350"
      ]
    },
    {
      "cell_type": "code",
      "metadata": {
        "id": "6O7Ert_-MPVp",
        "colab_type": "code",
        "colab": {
          "base_uri": "https://localhost:8080/",
          "height": 34
        },
        "outputId": "91dc1d7d-92f5-48ba-ec11-6e878b3fca8c"
      },
      "source": [
        "l=[11,33,50]\n",
        "for i in l:\n",
        "  print(i,end=\"\")\n"
      ],
      "execution_count": null,
      "outputs": [
        {
          "output_type": "stream",
          "text": [
            "113350"
          ],
          "name": "stdout"
        }
      ]
    },
    {
      "cell_type": "markdown",
      "metadata": {
        "id": "E1TrYgGYMaC7",
        "colab_type": "text"
      },
      "source": [
        "8.Units of Time\n",
        "Create  a  program  that  reads  duration  from  the  user  as  a  number  of  days, hours,  minutes,  and  seconds.  Compute  and  display  the  total  number  of seconds represented by this duration."
      ]
    },
    {
      "cell_type": "code",
      "metadata": {
        "id": "XF3B2l9RMi6-",
        "colab_type": "code",
        "colab": {}
      },
      "source": [
        "secondspermin=60\n",
        "secondsperhour=3600\n",
        "secondsperday=86400\n",
        "days=int(input(\"Enter the number of Days: \"))\n",
        "hours=int(input(\"Enter the number of Hours: \"))\n",
        "minutes=int(input(\"Enter the number of Minutes: \"))\n",
        "seconds=int(input(\"Enter the number of Seconds: \"))\n",
        "totalseconds=days*secondsperday\n",
        "totalseconds=totalseconds+(hours*secondsperhour)\n",
        "totalseconds=totalseconds+(minutes*secondspermin)\n",
        "totalseconds=totalseconds+seconds\n",
        "print(\"Total number of seconds = \",\"%d\"%(totalseconds))"
      ],
      "execution_count": null,
      "outputs": []
    },
    {
      "cell_type": "markdown",
      "metadata": {
        "id": "d4tHE7SGOaQT",
        "colab_type": "text"
      },
      "source": [
        "9.Sort 3 IntegersGiven  three  integers  (given  through  user  input),  sort  the  numbers  using |min| and  |max| functions."
      ]
    },
    {
      "cell_type": "code",
      "metadata": {
        "id": "WxTn75dCOk-R",
        "colab_type": "code",
        "colab": {
          "base_uri": "https://localhost:8080/",
          "height": 85
        },
        "outputId": "bcf22dae-e002-4b21-b471-6f3351754c7d"
      },
      "source": [
        "a=int(input(\"Enter the number of a:\"))\n",
        "b=int(input(\"Enter the number of b:\"))\n",
        "c=int(input(\"Enter the number of c:\"))\n",
        "d=min(a,b,c)\n",
        "e=max(a,b,c)\n",
        "f=(a+b+c)-d-e\n",
        "print(\"The Sorted order is:\",d,f,e)\n"
      ],
      "execution_count": null,
      "outputs": [
        {
          "output_type": "stream",
          "text": [
            "Enter the number of a:1\n",
            "Enter the number of b:23\n",
            "Enter the number of c:24\n",
            "The Sorted order is: 1 23 24\n"
          ],
          "name": "stdout"
        }
      ]
    },
    {
      "cell_type": "markdown",
      "metadata": {
        "id": "BF_LGQMZQvi8",
        "colab_type": "text"
      },
      "source": [
        "10.Write  a  program  that  reads  a  date  from  the  user  and  computes  its immediate successor. The date is the format YYYY-MM-DD. So, 2020-04-15 will have the successor 2020-04-16."
      ]
    },
    {
      "cell_type": "code",
      "metadata": {
        "id": "Bvdcw1LIQyv5",
        "colab_type": "code",
        "colab": {
          "base_uri": "https://localhost:8080/",
          "height": 85
        },
        "outputId": "6d708bd6-a062-4ea7-d780-a629a89e90ee"
      },
      "source": [
        "year=int(input(\"Enter a year : \"))\n",
        "if year%400== 0:\n",
        "    leapyear=True\n",
        "elif year%100==0:\n",
        "    leapyear=False\n",
        "elif year%4==0:\n",
        "    leapyear=True\n",
        "else:\n",
        "    leapyear=False\n",
        "month=int(input(\"Enter a month between 1 to 12 : \"))\n",
        "if month in (1, 3, 5, 7, 8, 10, 12):\n",
        "    monthlength=31\n",
        "elif month==2:\n",
        "    if leapyear:\n",
        "        monthlength=29\n",
        "    else:\n",
        "        monthlength=28\n",
        "else:\n",
        "    monthlength=30\n",
        "day=int(input(\"Enter a day between 1 to 31 : \"))\n",
        "if day<monthlength:\n",
        "    day+=1\n",
        "else:\n",
        "    day=1\n",
        "    if month==12:\n",
        "        month=1\n",
        "        year+=1\n",
        "    else:\n",
        "        month+=1\n",
        "print(\"The immediate successor is YYYY-MM-DD : %d-%d-%d.\" %(year,month,day))\n"
      ],
      "execution_count": null,
      "outputs": [
        {
          "output_type": "stream",
          "text": [
            "Enter a year : 2000\n",
            "Enter a month between 1 to 12 : 11\n",
            "Enter a day between 1 to 31 : 18\n",
            "The immediate successor is YYYY-MM-DD : 2000-11-19.\n"
          ],
          "name": "stdout"
        }
      ]
    },
    {
      "cell_type": "markdown",
      "metadata": {
        "id": "CBhhaeVORD8E",
        "colab_type": "text"
      },
      "source": [
        "11.Compute product of a list of numbers [45 ,3,2,89,72,1,10,7]Output: 121111200"
      ]
    },
    {
      "cell_type": "code",
      "metadata": {
        "id": "uFu2fL9MRFGG",
        "colab_type": "code",
        "colab": {
          "base_uri": "https://localhost:8080/",
          "height": 34
        },
        "outputId": "5eccb2a9-cd1c-4fd3-d02a-5c13a7d7b973"
      },
      "source": [
        "list=[45,3,2,89,72,1,10,7]\n",
        "n=1\n",
        "for i in range(len(list)):\n",
        "    n=n*list[i]\n",
        "print(n)"
      ],
      "execution_count": null,
      "outputs": [
        {
          "output_type": "stream",
          "text": [
            "121111200\n"
          ],
          "name": "stdout"
        }
      ]
    },
    {
      "cell_type": "markdown",
      "metadata": {
        "id": "7I3ov8f-RTX4",
        "colab_type": "text"
      },
      "source": [
        "12.Compute given Num_list =  [5, 6,8 ,34,89,1] to get desired outputOutput: Out_list=[11,14,42,123,90]"
      ]
    },
    {
      "cell_type": "code",
      "metadata": {
        "id": "E6Y8hC5URUfd",
        "colab_type": "code",
        "colab": {
          "base_uri": "https://localhost:8080/",
          "height": 34
        },
        "outputId": "e2d2f360-6d97-4b59-f4cf-bd3e5058be47"
      },
      "source": [
        "l=[5,6,8,34,89,1]\n",
        "Out_list=[]\n",
        "for i in range(len(l)-1):\n",
        "    ol=l[i]+l[i+1]\n",
        "    Out_list.append(ol)\n",
        "print(\"Out_list=\",Out_list)\n"
      ],
      "execution_count": null,
      "outputs": [
        {
          "output_type": "stream",
          "text": [
            "Out_list= [11, 14, 42, 123, 90]\n"
          ],
          "name": "stdout"
        }
      ]
    },
    {
      "cell_type": "markdown",
      "metadata": {
        "id": "J3bGbs9QRgl8",
        "colab_type": "text"
      },
      "source": [
        "13. Compute given Num_tuple =  (5, 6,8 ,3,9,1) to get desired outputOutput: Out_list = [5, 30, 240, 720, 6480, 6480]"
      ]
    },
    {
      "cell_type": "code",
      "metadata": {
        "id": "x0OEd1sLRq66",
        "colab_type": "code",
        "colab": {
          "base_uri": "https://localhost:8080/",
          "height": 34
        },
        "outputId": "ebdff547-7a8f-4fb3-ffa0-c5a1c01320ba"
      },
      "source": [
        "n=(5,6,8,3,9,1)\n",
        "Out_list=[]\n",
        "Out_list.append(n[0])\n",
        "for i in range(len(n)-1):\n",
        "    m=Out_list[i]*n[i+1]\n",
        "    Out_list.append(m)\n",
        "print(\"Out_list=\",Out_list)"
      ],
      "execution_count": null,
      "outputs": [
        {
          "output_type": "stream",
          "text": [
            "Out_list= [5, 30, 240, 720, 6480, 6480]\n"
          ],
          "name": "stdout"
        }
      ]
    },
    {
      "cell_type": "markdown",
      "metadata": {
        "id": "qVM3e75MR7TH",
        "colab_type": "text"
      },
      "source": [
        "14. Write a Python code that takes a number and returns a list of its digits. So for 586392 it should return [5,8,6,3,9,2]"
      ]
    },
    {
      "cell_type": "code",
      "metadata": {
        "id": "_lw1iosYR-L3",
        "colab_type": "code",
        "colab": {
          "base_uri": "https://localhost:8080/",
          "height": 51
        },
        "outputId": "16812c74-cbc6-42cc-bd01-ed852f0d5011"
      },
      "source": [
        "number=input(\"Enter a number: \")\n",
        "list=[]\n",
        "for n in range(len(number)):\n",
        "    list.append(number[n])\n",
        "print(list)"
      ],
      "execution_count": null,
      "outputs": [
        {
          "output_type": "stream",
          "text": [
            "Enter a number: 586392\n",
            "['5', '8', '6', '3', '9', '2']\n"
          ],
          "name": "stdout"
        }
      ]
    },
    {
      "cell_type": "markdown",
      "metadata": {
        "id": "evMR8QeBSP55",
        "colab_type": "text"
      },
      "source": [
        "15.Write a program that finds the longest palindromic substring of a given string"
      ]
    },
    {
      "cell_type": "code",
      "metadata": {
        "id": "vH3umMWsSRZj",
        "colab_type": "code",
        "colab": {
          "base_uri": "https://localhost:8080/",
          "height": 51
        },
        "outputId": "0c069b26-f7e3-41a4-d14b-888712d79bc9"
      },
      "source": [
        "def longestpalindrome(n):\n",
        "    d=[[False for i in range(len(n))] for i in range(len(n))]\n",
        "    for i in range(len(n)):\n",
        "        d[i][i]=True\n",
        "    maxlen=1\n",
        "    start=0\n",
        "    for j in range(2,len(n)+1):\n",
        "        for i in range(len(n)-j+1):\n",
        "            end=i+j\n",
        "            if j==2:\n",
        "                if n[i]==n[end-1]:\n",
        "                    d[i][end-1]=True\n",
        "                    maxlen=j\n",
        "                    start=i\n",
        "            else:\n",
        "                if n[i]==n[end-1] and d[i+1][end-2]:\n",
        "                    d[i][end-1]=True\n",
        "                    maxlen=j\n",
        "                    start=i\n",
        "    return n[start:start+maxlen]\n",
        "n=input(\"Enter a string: \")\n",
        "print(longestpalindrome(n))\n"
      ],
      "execution_count": null,
      "outputs": [
        {
          "output_type": "stream",
          "text": [
            "Enter a string: 123\n",
            "1\n"
          ],
          "name": "stdout"
        }
      ]
    },
    {
      "cell_type": "markdown",
      "metadata": {
        "id": "3oYvAWDeS1ow",
        "colab_type": "text"
      },
      "source": [
        "16. Substring Check (Bug Funny)Given two binary strings, A (of length 10) and B (of length 5), output 1 if B is a substring of A and 0 otherwise.First two lines of input:1010110010          101101110111011           10011First two lines of output:10"
      ]
    },
    {
      "cell_type": "code",
      "metadata": {
        "id": "vUMFtGI6xmVY",
        "colab_type": "code",
        "colab": {
          "base_uri": "https://localhost:8080/",
          "height": 141
        },
        "outputId": "85e96d2f-3789-41ea-9b29-74f186657030"
      },
      "source": [
        "t=int(input())\n",
        "for i in range(t):\n",
        "  A,B=input(\"Enter A string and B string : \").split()\n",
        "  if B in A:\n",
        "    print(\"1\")\n",
        "  else:\n",
        "    print(\"0\")\n"
      ],
      "execution_count": null,
      "outputs": [
        {
          "output_type": "stream",
          "text": [
            "1010110010\n",
            "Enter A string and B string : 1010110010 1110111011\n",
            "0\n",
            "Enter A string and B string : 10110 10011\n",
            "0\n"
          ],
          "name": "stdout"
        }
      ]
    },
    {
      "cell_type": "markdown",
      "metadata": {
        "id": "3jjJjDFQT10R",
        "colab_type": "text"
      },
      "source": [
        "17.  POUR1 - Pouring waterGiven two vessels, one of which can accommodate a litres of water and the other - b litres   of   water,   determine   the   number   of   steps   required   to   obtain exactly c litres of water in one of the vessels.At the beginning both vessels are empty. The following operations are counted as 'steps':emptying a vessel,filling a vessel,pouring water from one vessel to the other, without spilling, until one of the vessels is either full or empty.InputAn integer t, 1<=t<=100, denoting the number of testcases , followed by t sets of input  data,  each  consisting  of  three  positive  integers a,  b,  c,  not  larger  than 40000, given in separate lines.OutputFor each set of input data, output the minimum number of steps required to obtain c litres, or -1 if this is impossible."
      ]
    },
    {
      "cell_type": "code",
      "metadata": {
        "id": "4RqYMasKT-FK",
        "colab_type": "code",
        "colab": {
          "base_uri": "https://localhost:8080/",
          "height": 204
        },
        "outputId": "1cf8ee8a-341b-420c-8cd0-43cc94c3ed40"
      },
      "source": [
        "t=int(input(\"number of test case\"))\n",
        "for i in range(t):\n",
        "  a,b,c=map(int,input(\"enter a b c\").split())\n",
        "  if a>b:\n",
        "    d=a-b\n",
        "  elif a<b:\n",
        "    d=b-a\n",
        "  if c==a or c==b:\n",
        "    print(\"1\")\n",
        "  elif d==c:\n",
        "    print(\"2\")\n",
        "  else:\n",
        "    print(\"-1\")"
      ],
      "execution_count": null,
      "outputs": [
        {
          "output_type": "stream",
          "text": [
            "number of test case5\n",
            "enter a b c1 25 26\n",
            "-1\n",
            "enter a b c21 22 23\n",
            "-1\n",
            "enter a b c22 22 22\n",
            "1\n",
            "enter a b c45 45 45\n",
            "1\n",
            "enter a b c0 0 0\n",
            "1\n"
          ],
          "name": "stdout"
        }
      ]
    },
    {
      "cell_type": "markdown",
      "metadata": {
        "id": "FqhkNEj1N8OD",
        "colab_type": "text"
      },
      "source": [
        ""
      ]
    }
  ]
}