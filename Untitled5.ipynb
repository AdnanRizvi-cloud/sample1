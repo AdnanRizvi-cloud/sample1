{
  "nbformat": 4,
  "nbformat_minor": 0,
  "metadata": {
    "colab": {
      "name": "Untitled5.ipynb",
      "provenance": [],
      "collapsed_sections": [],
      "authorship_tag": "ABX9TyMuzH2fdod2lMh3dcmhNETv",
      "include_colab_link": true
    },
    "kernelspec": {
      "name": "python3",
      "display_name": "Python 3"
    }
  },
  "cells": [
    {
      "cell_type": "markdown",
      "metadata": {
        "id": "view-in-github",
        "colab_type": "text"
      },
      "source": [
        "<a href=\"https://colab.research.google.com/github/AdnanRizvi-cloud/sample1/blob/master/Untitled5.ipynb\" target=\"_parent\"><img src=\"https://colab.research.google.com/assets/colab-badge.svg\" alt=\"Open In Colab\"/></a>"
      ]
    },
    {
      "cell_type": "code",
      "metadata": {
        "id": "mywLPhj3MoUj",
        "colab_type": "code",
        "colab": {}
      },
      "source": [
        ""
      ],
      "execution_count": null,
      "outputs": []
    },
    {
      "cell_type": "code",
      "metadata": {
        "id": "XFxrtMo_M63M",
        "colab_type": "code",
        "colab": {
          "base_uri": "https://localhost:8080/",
          "height": 51
        },
        "outputId": "e67f984a-53a9-4b70-d256-de53fae5c64c"
      },
      "source": [
        "year=int(input(\"enter the year\"))\n",
        "val=year%12\n",
        "if val==0:\n",
        "    print(\"monkey\")\n",
        "elif val==1:\n",
        "    print(\"rooster\")\n",
        "elif val==2:\n",
        "    print(\"dog\")\n",
        "elif val==3:\n",
        "    print(\"pig\")\n",
        "elif val==4:\n",
        "    print(\"rat\")\n",
        "elif val==5:\n",
        "    print(\"ox\")\n",
        "elif val==6:\n",
        "    print(\"tiger\")\n",
        "elif val==7:\n",
        "    print(\"rabbit\")\n",
        "elif val==8:\n",
        "    print(\"dragon\")\n",
        "elif val==9:\n",
        "    print(\"snake\")\n",
        "elif val==10:\n",
        "    print(\"horse\")\n",
        "else:\n",
        "        print(\"sheep\")\n"
      ],
      "execution_count": 2,
      "outputs": [
        {
          "output_type": "stream",
          "text": [
            "enter the year9\n",
            "snake\n"
          ],
          "name": "stdout"
        }
      ]
    },
    {
      "cell_type": "code",
      "metadata": {
        "id": "GOMKljv0N0VB",
        "colab_type": "code",
        "colab": {
          "base_uri": "https://localhost:8080/",
          "height": 68
        },
        "outputId": "7c2329d1-c1cc-48dd-f085-725302956717"
      },
      "source": [
        "dist=int(input(\"enter the distance\"))\n",
        "weight=int(input(\"enter the weight\"))\n",
        "if dist>=500:\n",
        "    if weight>=100:\n",
        "        amount=dist*5\n",
        "    elif weight>=10 and weight<100:\n",
        "        amount=dist*6\n",
        "    else:\n",
        "        amount=dist*7\n",
        "else:\n",
        "    if weight>=100:\n",
        "        amount=dist*8\n",
        "    else:\n",
        "        amount=dist*5\n",
        "print(\"total amount = \",amount)\n"
      ],
      "execution_count": 3,
      "outputs": [
        {
          "output_type": "stream",
          "text": [
            "enter the distance490\n",
            "enter the weight2\n",
            "total amount =  2450\n"
          ],
          "name": "stdout"
        }
      ]
    },
    {
      "cell_type": "code",
      "metadata": {
        "id": "nzspBB3uOQBV",
        "colab_type": "code",
        "colab": {
          "base_uri": "https://localhost:8080/",
          "height": 68
        },
        "outputId": "eb2ddce7-86a5-4556-c4f5-3a7ac31e214b"
      },
      "source": [
        "type=[\"circle\",\"stalls\",\"upperclass\"]\n",
        "payment=[\"cash\",\"card\"]\n",
        "seat=input(\"enter the type of seat :: \")\n",
        "pmode=input(\"enter the type of payment mode :: \")\n",
        "if seat in type[0]:\n",
        "    if pmode in payment[0]:\n",
        "        discnt=750*10/100\n",
        "        cost=750-discnt\n",
        "    elif pmode in payment[1]:\n",
        "        discnt = 750 * 5 / 100\n",
        "        cost = 750 - discnt\n",
        "    else:\n",
        "        print(\"error while entering payment mode\")\n",
        "elif seat in type[1]:\n",
        "    if pmode in payment[0]:\n",
        "        discnt = 650 * 10 / 100\n",
        "        cost = 650 - discnt\n",
        "    elif pmode in payment[1]:\n",
        "        discnt = 650 * 5 / 100\n",
        "        cost = 650 - discnt\n",
        "    else:\n",
        "        print(\"error while entering payment mode\")\n",
        "else:\n",
        "    if pmode in payment[0]:\n",
        "        discnt = 850 * 10 / 100\n",
        "        cost = 850 - discnt\n",
        "    elif pmode in payment[1]:\n",
        "        discnt = 850 * 5 / 100\n",
        "        cost = 850 - discnt\n",
        "    else:\n",
        "        print(\"error while entering payment mode\")\n",
        "print(\"cost of ticket  :: \",cost)\n"
      ],
      "execution_count": 4,
      "outputs": [
        {
          "output_type": "stream",
          "text": [
            "enter the type of seat :: upper class\n",
            "enter the type of payment mode :: card\n",
            "cost of ticket  ::  807.5\n"
          ],
          "name": "stdout"
        }
      ]
    },
    {
      "cell_type": "code",
      "metadata": {
        "id": "y9ik0WuXOdS-",
        "colab_type": "code",
        "colab": {
          "base_uri": "https://localhost:8080/",
          "height": 85
        },
        "outputId": "253d7c9a-bcd6-442b-b0be-eb4d9232f0a1"
      },
      "source": [
        "water=int(input(\"enter weight of water in kilograms :: \"))\n",
        "intemp=int(input(\"enter initial temparature :: \"))\n",
        "fitemp=int(input(\"enter the final temperature :: \"))\n",
        "energy=water*(fitemp-intemp)*4184\n",
        "print(\"enery required :: \",energy,\"joules\")\n"
      ],
      "execution_count": 5,
      "outputs": [
        {
          "output_type": "stream",
          "text": [
            "enter weight of water in kilograms :: 1\n",
            "enter initial temparature :: 33\n",
            "enter the final temperature :: 32\n",
            "enery required ::  -4184 joules\n"
          ],
          "name": "stdout"
        }
      ]
    },
    {
      "cell_type": "code",
      "metadata": {
        "id": "ISCxxDD5OwnA",
        "colab_type": "code",
        "colab": {
          "base_uri": "https://localhost:8080/",
          "height": 51
        },
        "outputId": "12808330-de13-4eb3-a59c-f6fe8669aa90"
      },
      "source": [
        "winter=[\"december\",\"january\",\"february\"]\n",
        "spring=[\"march\",\"april\",\"may\"]\n",
        "summer=[\"june\",\"july\",\"august\"]\n",
        "autumn=[\"september\",\"october\",\"november\"]\n",
        "month=input(\"enter the month :: \")\n",
        "if month in winter:\n",
        "    print(\"it is a winter season\")\n",
        "elif month in spring:\n",
        "    print(\"it is a spring\")\n",
        "elif month in summer:\n",
        "    print(\"it is a summer\")\n",
        "else:\n",
        "    print(\"it is a autumn\")\n"
      ],
      "execution_count": 7,
      "outputs": [
        {
          "output_type": "stream",
          "text": [
            "enter the month :: june\n",
            "it is a summer\n"
          ],
          "name": "stdout"
        }
      ]
    },
    {
      "cell_type": "code",
      "metadata": {
        "id": "OA-_ZfJiPAxx",
        "colab_type": "code",
        "colab": {
          "base_uri": "https://localhost:8080/",
          "height": 119
        },
        "outputId": "6fc4e270-16ad-4db7-bda7-a150100bf705"
      },
      "source": [
        "weight=int(input(\"enter the weight in pounds\"))\n",
        "height=float(input(\"enter the height in inches\"))\n",
        "w=(weight*0.45359237)\n",
        "print(w)\n",
        "h=(height*0.0254)\n",
        "print(h)\n",
        "BMI=w/(h**2)\n",
        "print(BMI)\n",
        "if BMI<18.5:\n",
        "    print(\"underweight\")\n",
        "if BMI>=18.5 and BMI<25.0:\n",
        "    print(\"normal\")\n",
        "if BMI>=25.0 and BMI<30.0:\n",
        "    print(\"overweight\")\n",
        "if BMI>30.0:\n",
        "    print(\"obese\")\n"
      ],
      "execution_count": 9,
      "outputs": [
        {
          "output_type": "stream",
          "text": [
            "enter the weight in pounds2\n",
            "enter the height in inches12\n",
            "0.90718474\n",
            "0.30479999999999996\n",
            "9.764855272766104\n",
            "underweight\n"
          ],
          "name": "stdout"
        }
      ]
    },
    {
      "cell_type": "code",
      "metadata": {
        "id": "flvy__ZcPWoR",
        "colab_type": "code",
        "colab": {
          "base_uri": "https://localhost:8080/",
          "height": 51
        },
        "outputId": "7d348f97-2d7f-49c8-843d-334668051852"
      },
      "source": [
        "num=int(input(\"enter a number between 100 and 1000 :: \"))\n",
        "rem=0\n",
        "sum=0\n",
        "if(num>100 and num<1000):\n",
        "    while num>0:\n",
        "        rem=num%10\n",
        "        sum=sum+rem\n",
        "        num=num//10\n",
        "    print(sum)\n",
        "else:\n",
        "    print(\"the number entered is not in the range\")\n"
      ],
      "execution_count": 10,
      "outputs": [
        {
          "output_type": "stream",
          "text": [
            "enter a number between 100 and 1000 :: 101\n",
            "2\n"
          ],
          "name": "stdout"
        }
      ]
    },
    {
      "cell_type": "code",
      "metadata": {
        "id": "IQFe_gMqPgxA",
        "colab_type": "code",
        "colab": {
          "base_uri": "https://localhost:8080/",
          "height": 1000
        },
        "outputId": "4259dd61-c645-4d8d-f3f5-2140bea59aa8"
      },
      "source": [
        "rem=0\n",
        "for i in range(1,1000):\n",
        "    n=i\n",
        "    rev=0\n",
        "    while n>0:\n",
        "        rem=n%10\n",
        "        rev=rev*10+rem\n",
        "        n=n//10\n",
        "    if i==rev:\n",
        "        print(i)\n"
      ],
      "execution_count": 11,
      "outputs": [
        {
          "output_type": "stream",
          "text": [
            "1\n",
            "2\n",
            "3\n",
            "4\n",
            "5\n",
            "6\n",
            "7\n",
            "8\n",
            "9\n",
            "11\n",
            "22\n",
            "33\n",
            "44\n",
            "55\n",
            "66\n",
            "77\n",
            "88\n",
            "99\n",
            "101\n",
            "111\n",
            "121\n",
            "131\n",
            "141\n",
            "151\n",
            "161\n",
            "171\n",
            "181\n",
            "191\n",
            "202\n",
            "212\n",
            "222\n",
            "232\n",
            "242\n",
            "252\n",
            "262\n",
            "272\n",
            "282\n",
            "292\n",
            "303\n",
            "313\n",
            "323\n",
            "333\n",
            "343\n",
            "353\n",
            "363\n",
            "373\n",
            "383\n",
            "393\n",
            "404\n",
            "414\n",
            "424\n",
            "434\n",
            "444\n",
            "454\n",
            "464\n",
            "474\n",
            "484\n",
            "494\n",
            "505\n",
            "515\n",
            "525\n",
            "535\n",
            "545\n",
            "555\n",
            "565\n",
            "575\n",
            "585\n",
            "595\n",
            "606\n",
            "616\n",
            "626\n",
            "636\n",
            "646\n",
            "656\n",
            "666\n",
            "676\n",
            "686\n",
            "696\n",
            "707\n",
            "717\n",
            "727\n",
            "737\n",
            "747\n",
            "757\n",
            "767\n",
            "777\n",
            "787\n",
            "797\n",
            "808\n",
            "818\n",
            "828\n",
            "838\n",
            "848\n",
            "858\n",
            "868\n",
            "878\n",
            "888\n",
            "898\n",
            "909\n",
            "919\n",
            "929\n",
            "939\n",
            "949\n",
            "959\n",
            "969\n",
            "979\n",
            "989\n",
            "999\n"
          ],
          "name": "stdout"
        }
      ]
    },
    {
      "cell_type": "code",
      "metadata": {
        "id": "PWouYu1sPr3S",
        "colab_type": "code",
        "colab": {
          "base_uri": "https://localhost:8080/",
          "height": 102
        },
        "outputId": "b1b7a655-d073-405d-d2c0-fc4e98dfbcac"
      },
      "source": [
        "rem=0\n",
        "for i in range(1,1000):\n",
        "    n=i\n",
        "    rev=0\n",
        "    while n>0:\n",
        "        rem=n%10\n",
        "        rev=rev+rem**3\n",
        "        n=n//10\n",
        "    if i==rev:\n",
        "        print(i)\n"
      ],
      "execution_count": 12,
      "outputs": [
        {
          "output_type": "stream",
          "text": [
            "1\n",
            "153\n",
            "370\n",
            "371\n",
            "407\n"
          ],
          "name": "stdout"
        }
      ]
    },
    {
      "cell_type": "code",
      "metadata": {
        "id": "NPuwbsQlP2Vq",
        "colab_type": "code",
        "colab": {
          "base_uri": "https://localhost:8080/",
          "height": 799
        },
        "outputId": "90b4e7ae-df3f-472e-a500-0adf81f989a3"
      },
      "source": [
        "for i in range(1,100):\n",
        "    if i%3==0 and i%5==0:\n",
        "        print(\"fizz buzz\")\n",
        "    elif i%3==0:\n",
        "        print(\"fizz\")\n",
        "    elif i%5==0:\n",
        "        print(\"buzz\")\n"
      ],
      "execution_count": 13,
      "outputs": [
        {
          "output_type": "stream",
          "text": [
            "fizz\n",
            "buzz\n",
            "fizz\n",
            "fizz\n",
            "buzz\n",
            "fizz\n",
            "fizz buzz\n",
            "fizz\n",
            "buzz\n",
            "fizz\n",
            "fizz\n",
            "buzz\n",
            "fizz\n",
            "fizz buzz\n",
            "fizz\n",
            "buzz\n",
            "fizz\n",
            "fizz\n",
            "buzz\n",
            "fizz\n",
            "fizz buzz\n",
            "fizz\n",
            "buzz\n",
            "fizz\n",
            "fizz\n",
            "buzz\n",
            "fizz\n",
            "fizz buzz\n",
            "fizz\n",
            "buzz\n",
            "fizz\n",
            "fizz\n",
            "buzz\n",
            "fizz\n",
            "fizz buzz\n",
            "fizz\n",
            "buzz\n",
            "fizz\n",
            "fizz\n",
            "buzz\n",
            "fizz\n",
            "fizz buzz\n",
            "fizz\n",
            "buzz\n",
            "fizz\n",
            "fizz\n"
          ],
          "name": "stdout"
        }
      ]
    },
    {
      "cell_type": "code",
      "metadata": {
        "id": "XGXB9EhiQC83",
        "colab_type": "code",
        "colab": {
          "base_uri": "https://localhost:8080/",
          "height": 68
        },
        "outputId": "71a309e0-f6fd-4227-cd27-24695eaf617d"
      },
      "source": [
        "h=int(input(\"enter height of the well :: \"))\n",
        "u=int(input(\"enter the meters spider climb up for each sstep :: \"))\n",
        "d=int(input(\"enter the meters the spider slips down for each step :: \"))\n",
        "s=0\n",
        "t=0\n",
        "p=0\n",
        "while t<=h:\n",
        "    t=t+u\n",
        "    if(t<=h):\n",
        "        t=t-d\n",
        "    s=s+1\n",
        "print(s)\n"
      ],
      "execution_count": null,
      "outputs": [
        {
          "output_type": "stream",
          "text": [
            "enter height of the well :: 45\n",
            "enter the meters spider climb up for each sstep :: 1\n",
            "enter the meters the spider slips down for each step :: 2\n"
          ],
          "name": "stdout"
        }
      ]
    }
  ]
}